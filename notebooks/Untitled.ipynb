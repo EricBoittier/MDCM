{
 "cells": [
  {
   "cell_type": "code",
   "execution_count": 16,
   "metadata": {},
   "outputs": [],
   "source": [
    "\"\"\"\n",
    "Boiler plate imports\n",
    "\"\"\"\n",
    "#  Standard Imports\n",
    "import matplotlib.pyplot as plt\n",
    "import pandas as pd\n",
    "import numpy as np\n",
    "\n",
    "#  Helpers\n",
    "import os\n",
    "import re\n",
    "\n",
    "\n",
    "#  Cheminformatics\n",
    "import rdkit\n",
    "\n"
   ]
  },
  {
   "cell_type": "code",
   "execution_count": 45,
   "metadata": {},
   "outputs": [
    {
     "name": "stderr",
     "output_type": "stream",
     "text": [
      "IOPub data rate exceeded.\n",
      "The notebook server will temporarily stop sending output\n",
      "to the client in order to avoid crashing it.\n",
      "To change this limit, set the config variable\n",
      "`--NotebookApp.iopub_data_rate_limit`.\n",
      "\n",
      "Current values:\n",
      "NotebookApp.iopub_data_rate_limit=1000000.0 (bytes/sec)\n",
      "NotebookApp.rate_limit_window=3.0 (secs)\n",
      "\n"
     ]
    }
   ],
   "source": [
    "atom_names = [\"C\", \"O\", \"H\", \"N\"]\n",
    "\n",
    "bohrs_to_angrstom = 0.529177249\n",
    "\n",
    "acrolein_geom_path = \"/home/boittier/Documents/MDCM/nms_sampling/acrolein_geom.xyz.dir/acrolein_geom.xyz\"\n",
    "print((open(acrolein_geom_path, \"r\").readlines()))\n",
    "\n",
    "\n",
    "\n",
    "\n",
    "#  Helper functions\n",
    "def file_name_to_code(filename):\n",
    "    return int(re.sub('[^0-9]','', filename))\n",
    "\n",
    "def g09_input_to_geometry(g09_input):\n",
    "    \"\"\"\n",
    "    Takes a list of lines in a com file and returns a geometry in the form:\n",
    "    [[str(atom name), float(x), float(y), float(z)], ...]\n",
    "    \"\"\"\n",
    "    geom = []\n",
    "    for x in g09_input:\n",
    "        spl = x.split()\n",
    "        if len(spl) == 4 and spl[0] in atom_names:\n",
    "            geom.append([spl[0], float(spl[1]), float(spl[2]), float(spl[3])])\n",
    "    return geom\n",
    "\n",
    "def pun_to_dipole_moment(pun_file):\n",
    "    \"\"\"\n",
    "    Takes a list of lines from a pun file and returns the dipole moment in the form:\n",
    "    [[str(atom name), float(x), float(y), float(z)], ...]\n",
    "    \"\"\"\n",
    "    dipoles = []\n",
    "    for x in pun_file:\n",
    "        if x.__contains__(\"Rank \"):\n",
    "            spl = x.split()\n",
    "            if len(spl) == 6 and spl[0] in atom_names:\n",
    "                dipoles.append([spl[0], float(spl[1]), float(spl[2]), float(spl[3])])\n",
    "    return dipoles\n",
    "            "
   ]
  },
  {
   "cell_type": "code",
   "execution_count": 39,
   "metadata": {},
   "outputs": [],
   "source": [
    "path_to_g09_input = \"/home/boittier/Documents/MDCM/nms_sampling/acrolein_geom.xyz.dir/energies\"\n",
    "path_to_GDMA_output = \"/home/boittier/Documents/MDCM/GDMA_output/acrolein\"\n",
    "\n",
    "com_files = [ x for x in os.listdir(path_to_g09_input) if x.__contains__(\"com\")]\n",
    "pun_files = [ x for x in os.listdir(path_to_GDMA_output) if x.__contains__(\"pun\")]\n",
    "\n",
    "\n",
    "number_to_geometry = {}\n",
    "for com_file in com_files:\n",
    "    number_to_geometry[file_name_to_code(com_file) ] = g09_input_to_geometry(\n",
    "        open(os.path.join(path_to_g09_input, com_file)).readlines())\n",
    "\n",
    "number_to_punch = {}\n",
    "for pun_file in pun_files:\n",
    "    number_to_punch[file_name_to_code(pun_file)] = pun_to_dipole_moment(\n",
    "        open(os.path.join(path_to_GDMA_output, pun_file)).readlines())\n"
   ]
  },
  {
   "cell_type": "code",
   "execution_count": null,
   "metadata": {},
   "outputs": [],
   "source": []
  },
  {
   "cell_type": "code",
   "execution_count": null,
   "metadata": {},
   "outputs": [],
   "source": []
  },
  {
   "cell_type": "code",
   "execution_count": null,
   "metadata": {},
   "outputs": [],
   "source": []
  }
 ],
 "metadata": {
  "kernelspec": {
   "display_name": "Python 3",
   "language": "python",
   "name": "python3"
  },
  "language_info": {
   "codemirror_mode": {
    "name": "ipython",
    "version": 3
   },
   "file_extension": ".py",
   "mimetype": "text/x-python",
   "name": "python",
   "nbconvert_exporter": "python",
   "pygments_lexer": "ipython3",
   "version": "3.8.5"
  }
 },
 "nbformat": 4,
 "nbformat_minor": 4
}
