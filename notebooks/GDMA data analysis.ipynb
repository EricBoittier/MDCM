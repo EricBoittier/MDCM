{
 "cells": [
  {
   "cell_type": "code",
   "execution_count": 3,
   "metadata": {},
   "outputs": [],
   "source": [
    "\"\"\"\n",
    "Boiler plate imports\n",
    "\"\"\"\n",
    "#  Standard Imports\n",
    "import matplotlib.pyplot as plt\n",
    "plt.rc('font', family='serif', size=14)\n",
    "import pandas as pd\n",
    "import numpy as np\n",
    "import seaborn as sns\n",
    "\n",
    "#  Helpers\n",
    "import os\n",
    "import re\n",
    "\n",
    "#  Cheminformatics\n",
    "import rdkit\n",
    "\n"
   ]
  },
  {
   "cell_type": "code",
   "execution_count": 11,
   "metadata": {},
   "outputs": [],
   "source": [
    "#  Helper functions\n",
    "\n",
    "def distance(a, b):\n",
    "    \"\"\"\n",
    "    Distance using the norm\n",
    "    \"\"\"\n",
    "    a = [x[1:] for x in a]\n",
    "    b = [x[1:] for x in b]\n",
    "\n",
    "    return np.linalg.norm(np.array(a) - np.array(b))\n",
    "\n",
    "def difference(a, b):\n",
    "    a = [x[1:] for x in a]\n",
    "    b = [x[1:] for x in b]\n",
    "    return np.array(a) - np.array(b)\n",
    "\n",
    "\n",
    "def file_name_to_code(filename):\n",
    "    return int(re.sub('[^0-9]','', filename))\n",
    "\n",
    "def g09_input_to_geometry(g09_input):\n",
    "    \"\"\"\n",
    "    Takes a list of lines in a com file and returns a geometry in the form:\n",
    "    [[str(atom name), float(x), float(y), float(z)], ...]\n",
    "    \"\"\"\n",
    "    geom = []\n",
    "    for x in g09_input:\n",
    "        spl = x.split()\n",
    "        if len(spl) == 4 and spl[0] in atom_names:\n",
    "            geom.append([spl[0], float(spl[1]), float(spl[2]), float(spl[3])])\n",
    "    return geom\n",
    "\n",
    "def pun_to_dipole_moment(pun_file):\n",
    "    \"\"\"\n",
    "    Takes a list of lines from a pun file and returns the dipole moment in the form:\n",
    "    [[str(atom name), float(x), float(y), float(z)], ...]\n",
    "    \"\"\"\n",
    "    dipoles = []\n",
    "    for x in pun_file:\n",
    "        if x.__contains__(\"Rank \"):\n",
    "            spl = x.split()\n",
    "            if len(spl) == 6 and spl[0] in atom_names:\n",
    "                dipoles.append([spl[0], float(spl[1]), float(spl[2]), float(spl[3])])\n",
    "    return dipoles\n",
    "\n",
    "def pun_to_charge(pun_file):\n",
    "    \"\"\"\n",
    "    Takes a list of lines from a pun file and returns the charge in the form:\n",
    "    [[str(atom name), float(x)]\n",
    "    \"\"\"\n",
    "    charges = []\n",
    "    for i, x in enumerate(pun_file):\n",
    "        if x.__contains__(\"Rank \"):\n",
    "            spl = x.split()\n",
    "            if len(spl) == 6 and spl[0] in atom_names:\n",
    "                charges.append([spl[0], float(pun_file[i+1])])\n",
    "    return charges\n",
    "\n",
    "def pun_to_charge(pun_file):\n",
    "    \"\"\"\n",
    "    Takes a list of lines from a pun file and returns the charge in the form:\n",
    "    [[str(atom name), float(x)]\n",
    "    \"\"\"\n",
    "    charges = []\n",
    "    for i, x in enumerate(pun_file):\n",
    "        if x.__contains__(\"Rank \"):\n",
    "            spl = x.split()\n",
    "            if len(spl) == 6 and spl[0] in atom_names:\n",
    "                charges.append([spl[0], float(pun_file[i+1])])\n",
    "    return charges\n",
    "\n",
    "def pun_to_R1(pun_file):\n",
    "    \"\"\"\n",
    "    Takes a list of lines from a pun file and returns the charge in the form:\n",
    "    [[str(atom name), float(x)]\n",
    "    \"\"\"\n",
    "    charges = []\n",
    "    for i, x in enumerate(pun_file):\n",
    "        if x.__contains__(\"Rank \"):\n",
    "            spl = x.split()\n",
    "            if len(spl) == 6 and spl[0] in atom_names:\n",
    "                r = pun_file[i+2].split()\n",
    "                r = [float(x) for x in r]\n",
    "                charges.append([spl[0], *r])\n",
    "    return charges\n",
    "\n",
    "def pun_to_R2(pun_file):\n",
    "    \"\"\"\n",
    "    Takes a list of lines from a pun file and returns the charge in the form:\n",
    "    [[str(atom name), float(x)]\n",
    "    \"\"\"\n",
    "    charges = []\n",
    "    for i, x in enumerate(pun_file):\n",
    "        if x.__contains__(\"Rank \"):\n",
    "            spl = x.split()\n",
    "            if len(spl) == 6 and spl[0] in atom_names:\n",
    "                r = pun_file[i+3].split()\n",
    "                r = [float(x) for x in r]\n",
    "                charges.append([spl[0], *r])\n",
    "    return charges\n",
    "\n",
    "def dihedral(p):\n",
    "    \"\"\"\n",
    "    Copied from stack overflow: \n",
    "    https://stackoverflow.com/questions/20305272/\n",
    "    dihedral-torsion-angle-from-four-points-in-cartesian-coordinates-in-python\n",
    "\n",
    "    Praxeolitic formula\n",
    "    1 sqrt, 1 cross product\"\"\"\n",
    "    \n",
    "    p0 = p[0]\n",
    "    p1 = p[1]\n",
    "    p2 = p[2]\n",
    "    p3 = p[3]\n",
    "\n",
    "    b0 = -1.0*(p1 - p0)\n",
    "    b1 = p2 - p1\n",
    "    b2 = p3 - p2\n",
    "\n",
    "    # normalize b1 so that it does not influence magnitude of vector\n",
    "    # rejections that come next\n",
    "    b1 /= np.linalg.norm(b1)\n",
    "\n",
    "    # vector rejections\n",
    "    # v = projection of b0 onto plane perpendicular to b1\n",
    "    #   = b0 minus component that aligns with b1\n",
    "    # w = projection of b2 onto plane perpendicular to b1\n",
    "    #   = b2 minus component that aligns with b1\n",
    "    v = b0 - np.dot(b0, b1)*b1\n",
    "    w = b2 - np.dot(b2, b1)*b1\n",
    "\n",
    "    # angle between v and w in a plane is the torsion angle\n",
    "    # v and w may not be normalized but that's fine since tan is y/x\n",
    "    x = np.dot(v, w)\n",
    "    y = np.dot(np.cross(b1, v), w)\n",
    "    return np.degrees(np.arctan2(y, x))\n",
    "\n",
    "            "
   ]
  },
  {
   "cell_type": "code",
   "execution_count": 25,
   "metadata": {},
   "outputs": [
    {
     "name": "stdout",
     "output_type": "stream",
     "text": [
      "acrolein   0.0847975886649271\n",
      "butane   0.46565998264893743\n",
      "butadiene   0.04469487591412789\n",
      "h2o   0.10769586542894645\n",
      "methanol   0.3543278372280695\n",
      "cyanomethane   0.07025391239688714\n"
     ]
    },
    {
     "name": "stderr",
     "output_type": "stream",
     "text": [
      "/home/boittier/miniconda3/lib/python3.8/site-packages/seaborn/axisgrid.py:1287: RuntimeWarning: More than 20 figures have been opened. Figures created through the pyplot interface (`matplotlib.pyplot.figure`) are retained until explicitly closed and may consume too much memory. (To control this warning, see the rcParam `figure.max_open_warning`).\n",
      "  fig, axes = plt.subplots(len(y_vars), len(x_vars),\n"
     ]
    },
    {
     "data": {
      "text/plain": [
       "<Figure size 900x900 with 0 Axes>"
      ]
     },
     "metadata": {},
     "output_type": "display_data"
    },
    {
     "data": {
      "text/plain": [
       "<Figure size 504x504 with 0 Axes>"
      ]
     },
     "metadata": {},
     "output_type": "display_data"
    },
    {
     "data": {
      "text/plain": [
       "<Figure size 504x504 with 0 Axes>"
      ]
     },
     "metadata": {},
     "output_type": "display_data"
    },
    {
     "data": {
      "text/plain": [
       "<Figure size 504x504 with 0 Axes>"
      ]
     },
     "metadata": {},
     "output_type": "display_data"
    },
    {
     "data": {
      "text/plain": [
       "<Figure size 900x900 with 0 Axes>"
      ]
     },
     "metadata": {},
     "output_type": "display_data"
    },
    {
     "data": {
      "text/plain": [
       "<Figure size 504x504 with 0 Axes>"
      ]
     },
     "metadata": {},
     "output_type": "display_data"
    },
    {
     "data": {
      "text/plain": [
       "<Figure size 504x504 with 0 Axes>"
      ]
     },
     "metadata": {},
     "output_type": "display_data"
    },
    {
     "data": {
      "text/plain": [
       "<Figure size 504x504 with 0 Axes>"
      ]
     },
     "metadata": {},
     "output_type": "display_data"
    },
    {
     "data": {
      "text/plain": [
       "<Figure size 900x900 with 0 Axes>"
      ]
     },
     "metadata": {},
     "output_type": "display_data"
    },
    {
     "data": {
      "text/plain": [
       "<Figure size 504x504 with 0 Axes>"
      ]
     },
     "metadata": {},
     "output_type": "display_data"
    },
    {
     "data": {
      "text/plain": [
       "<Figure size 504x504 with 0 Axes>"
      ]
     },
     "metadata": {},
     "output_type": "display_data"
    },
    {
     "data": {
      "text/plain": [
       "<Figure size 504x504 with 0 Axes>"
      ]
     },
     "metadata": {},
     "output_type": "display_data"
    },
    {
     "data": {
      "text/plain": [
       "<Figure size 900x900 with 0 Axes>"
      ]
     },
     "metadata": {},
     "output_type": "display_data"
    },
    {
     "data": {
      "text/plain": [
       "<Figure size 504x504 with 0 Axes>"
      ]
     },
     "metadata": {},
     "output_type": "display_data"
    },
    {
     "data": {
      "text/plain": [
       "<Figure size 504x504 with 0 Axes>"
      ]
     },
     "metadata": {},
     "output_type": "display_data"
    },
    {
     "data": {
      "text/plain": [
       "<Figure size 504x504 with 0 Axes>"
      ]
     },
     "metadata": {},
     "output_type": "display_data"
    },
    {
     "data": {
      "text/plain": [
       "<Figure size 900x900 with 0 Axes>"
      ]
     },
     "metadata": {},
     "output_type": "display_data"
    },
    {
     "data": {
      "text/plain": [
       "<Figure size 504x504 with 0 Axes>"
      ]
     },
     "metadata": {},
     "output_type": "display_data"
    },
    {
     "data": {
      "text/plain": [
       "<Figure size 504x504 with 0 Axes>"
      ]
     },
     "metadata": {},
     "output_type": "display_data"
    },
    {
     "data": {
      "text/plain": [
       "<Figure size 504x504 with 0 Axes>"
      ]
     },
     "metadata": {},
     "output_type": "display_data"
    },
    {
     "data": {
      "text/plain": [
       "<Figure size 900x900 with 0 Axes>"
      ]
     },
     "metadata": {},
     "output_type": "display_data"
    },
    {
     "data": {
      "text/plain": [
       "<Figure size 504x504 with 0 Axes>"
      ]
     },
     "metadata": {},
     "output_type": "display_data"
    },
    {
     "data": {
      "text/plain": [
       "<Figure size 504x504 with 0 Axes>"
      ]
     },
     "metadata": {},
     "output_type": "display_data"
    },
    {
     "data": {
      "text/plain": [
       "<Figure size 504x504 with 0 Axes>"
      ]
     },
     "metadata": {},
     "output_type": "display_data"
    }
   ],
   "source": [
    "systems = [\"acrolein\", \"butane\", \"butadiene\", \"water\", \"methanol\", \"cyanomethane\"]\n",
    "systems = [\"acrolein\", \"butane\", \"butadiene\", \"water\", \"methanol\", \"cyanomethane\"]\n",
    "\n",
    "for system in systems:    \n",
    "    \n",
    "    atom_names = [\"C\", \"O\", \"H\", \"N\"]\n",
    "\n",
    "    acrolein_geom_path = \"/home/boittier/Documents/MDCM/scripts/{}_opt.xyz\".format(system)\n",
    "    acrolein_pun_path = \"/home/boittier/Documents/MDCM/big_basis_set/GDMA/{}_opt.pun\".format(system)\n",
    "\n",
    "    acrolein_ref_geom = g09_input_to_geometry(open(acrolein_geom_path, \"r\").readlines())\n",
    "    acrolein_ref_pun = pun_to_dipole_moment(open(acrolein_pun_path).readlines())\n",
    "    acrolein_ref_charge = pun_to_charge(open(acrolein_pun_path).readlines())\n",
    "    acrolein_ref_R1 = pun_to_R1(open(acrolein_pun_path).readlines())\n",
    "    acrolein_ref_R2 = pun_to_R2(open(acrolein_pun_path).readlines())\n",
    "\n",
    "    #  Fixing an inconsistency :( \n",
    "    if system == \"water\":\n",
    "        system = \"h2o\"\n",
    "    \n",
    "    path_to_g09_input = \"/home/boittier/Documents/MDCM/nms_sampling/{}_geom.xyz.dir/energies\".format(system)\n",
    "    path_to_GDMA_output = \"/home/boittier/Documents/MDCM/GDMA_output/{}\".format(system)\n",
    "\n",
    "    com_files = [ x for x in os.listdir(path_to_g09_input) if x.__contains__(\"com\")]\n",
    "    pun_files = [ x for x in os.listdir(path_to_GDMA_output) if x.__contains__(\"pun\")]\n",
    "\n",
    "\n",
    "    number_to_geometry = {}\n",
    "    for com_file in com_files:\n",
    "        number_to_geometry[file_name_to_code(com_file) ] = g09_input_to_geometry(\n",
    "            open(os.path.join(path_to_g09_input, com_file)).readlines())\n",
    "\n",
    "    number_to_punch = {}\n",
    "    for pun_file in pun_files:\n",
    "        f = open(os.path.join(path_to_GDMA_output, pun_file)).readlines()\n",
    "        if len(pun_to_dipole_moment(f)) < 1:\n",
    "            #print(\"failed? \", pun_file)\n",
    "            pass\n",
    "        else:\n",
    "            number_to_punch[file_name_to_code(pun_file)] = pun_to_dipole_moment(f)\n",
    "\n",
    "    number_to_charge = {}\n",
    "    for pun_file in pun_files:\n",
    "        f = open(os.path.join(path_to_GDMA_output, pun_file)).readlines()\n",
    "        if len(pun_to_charge(f)) < 1:\n",
    "            #print(\"failed? \", pun_file)\n",
    "            pass\n",
    "        else:\n",
    "            number_to_charge[file_name_to_code(pun_file)] = pun_to_charge(f)\n",
    "            \n",
    "            \n",
    "    number_to_R1 = {}\n",
    "    for pun_file in pun_files:\n",
    "        f = open(os.path.join(path_to_GDMA_output, pun_file)).readlines()\n",
    "        if len(pun_to_charge(f)) < 1:\n",
    "            #print(\"failed? \", pun_file)\n",
    "            pass\n",
    "        else:\n",
    "            number_to_R1[file_name_to_code(pun_file)] = pun_to_R1(f)\n",
    "            \n",
    "            \n",
    "    number_to_R2 = {}\n",
    "    for pun_file in pun_files:\n",
    "        f = open(os.path.join(path_to_GDMA_output, pun_file)).readlines()\n",
    "        if len(pun_to_charge(f)) < 1:\n",
    "            #print(\"failed? \", pun_file)\n",
    "            pass\n",
    "        else:\n",
    "            number_to_R2[file_name_to_code(pun_file)] = pun_to_R2(f)\n",
    "\n",
    "    keys = list(number_to_punch.keys())\n",
    "\n",
    "    rmsds = []\n",
    "    delta_dipoles = []\n",
    "    dihedrals = []\n",
    "    charges = []\n",
    "    delta_R1 = []\n",
    "    delta_R2 = []\n",
    "\n",
    "    for x in keys:\n",
    "        rmsds.append(distance(acrolein_ref_geom, number_to_geometry[x]))\n",
    "        \n",
    "        delta_dipoles.append(distance(acrolein_ref_pun, number_to_punch[x]))\n",
    "        \n",
    "        charges.append(distance(acrolein_ref_charge, number_to_charge[x]))\n",
    "        delta_R1.append(distance(acrolein_ref_R1, number_to_R1[x]))\n",
    "        delta_R2.append(distance(acrolein_ref_R2, number_to_R2[x]))\n",
    "        \n",
    "        geom = [x[1:] for x in number_to_geometry[x]] \n",
    "        #dih_atoms = np.array([geom[3], geom[2], geom[0], geom[1]])\n",
    "        #dihedrals.append(dihedral(dih_atoms)) ## should remove bc water\n",
    "\n",
    "    #d = {\"$\\Delta$dipole\": delta_dipoles, \"Dihedral\": dihedrals, \"RMSD\": rmsds, \"$\\Delta$R0\": charges}\n",
    "    d = {\"$\\Delta$dipole\": delta_dipoles, \"RMSD\": rmsds,\n",
    "         \"$\\Delta$R0\": charges, \"$\\Delta$R1\": delta_R1, \"$\\Delta$R2\": delta_R2}\n",
    "    df = pd.DataFrame(d)   \n",
    "    \n",
    "    print(system, \" \", max(charges))\n",
    "    \n",
    "    g = sns.pairplot(df);\n",
    "    g.map_offdiag(sns.kdeplot, n_levels=6);\n",
    "    plt.savefig(\"{}_pairplot.pdf\".format(system))\n",
    "    plt.clf()\n",
    "\n",
    "    g = sns.jointplot(\"RMSD\", \"$\\Delta$R0\", data=df,\n",
    "                      kind=\"reg\", truncate=False, height=7)\n",
    "    plt.savefig(\"{}_rmsd_vs_charge.pdf\".format(system))\n",
    "    plt.clf()\n",
    "    \n",
    "    g = sns.jointplot(\"RMSD\", \"$\\Delta$R1\", data=df,\n",
    "                      kind=\"reg\", truncate=False, height=7)\n",
    "    plt.savefig(\"{}_rmsd_vs_R1.pdf\".format(system))\n",
    "    plt.clf()\n",
    "    \n",
    "    g = sns.jointplot(\"RMSD\", \"$\\Delta$R2\", data=df,\n",
    "                      kind=\"reg\", truncate=False, height=7)\n",
    "    plt.savefig(\"{}_rmsd_vs_R2.pdf\".format(system))\n",
    "    plt.clf()\n",
    "    \n",
    "    d = {\"key\": keys, \"$\\Delta$dipole\": delta_dipoles, \"RMSD\": rmsds,\n",
    "         \"$\\Delta$R0\": charges, \"$\\Delta$R1\": delta_R1, \"$\\Delta$R2\": delta_R2}\n",
    "    df = pd.DataFrame(d) \n",
    "    df = df.sort_values(\"$\\Delta$R0\", ascending=False)\n",
    "    df.to_csv(\"{}_data.csv\".format(system))\n",
    "\n"
   ]
  },
  {
   "cell_type": "code",
   "execution_count": 21,
   "metadata": {},
   "outputs": [
    {
     "data": {
      "text/html": [
       "<div>\n",
       "<style scoped>\n",
       "    .dataframe tbody tr th:only-of-type {\n",
       "        vertical-align: middle;\n",
       "    }\n",
       "\n",
       "    .dataframe tbody tr th {\n",
       "        vertical-align: top;\n",
       "    }\n",
       "\n",
       "    .dataframe thead th {\n",
       "        text-align: right;\n",
       "    }\n",
       "</style>\n",
       "<table border=\"1\" class=\"dataframe\">\n",
       "  <thead>\n",
       "    <tr style=\"text-align: right;\">\n",
       "      <th></th>\n",
       "      <th>key</th>\n",
       "      <th>$\\Delta$dipole</th>\n",
       "      <th>RMSD</th>\n",
       "      <th>$\\Delta$R0</th>\n",
       "      <th>$\\Delta$R1</th>\n",
       "      <th>$\\Delta$R2</th>\n",
       "    </tr>\n",
       "  </thead>\n",
       "  <tbody>\n",
       "    <tr>\n",
       "      <th>669</th>\n",
       "      <td>1252</td>\n",
       "      <td>6.967082</td>\n",
       "      <td>0.166594</td>\n",
       "      <td>0.070254</td>\n",
       "      <td>1.135334</td>\n",
       "      <td>0.483453</td>\n",
       "    </tr>\n",
       "    <tr>\n",
       "      <th>1</th>\n",
       "      <td>1785</td>\n",
       "      <td>7.082464</td>\n",
       "      <td>0.156541</td>\n",
       "      <td>0.065472</td>\n",
       "      <td>1.122026</td>\n",
       "      <td>0.474059</td>\n",
       "    </tr>\n",
       "    <tr>\n",
       "      <th>747</th>\n",
       "      <td>1432</td>\n",
       "      <td>6.933635</td>\n",
       "      <td>0.132065</td>\n",
       "      <td>0.063610</td>\n",
       "      <td>1.118006</td>\n",
       "      <td>0.447314</td>\n",
       "    </tr>\n",
       "    <tr>\n",
       "      <th>248</th>\n",
       "      <td>1492</td>\n",
       "      <td>6.956245</td>\n",
       "      <td>0.118932</td>\n",
       "      <td>0.063323</td>\n",
       "      <td>1.123029</td>\n",
       "      <td>0.429369</td>\n",
       "    </tr>\n",
       "    <tr>\n",
       "      <th>737</th>\n",
       "      <td>1688</td>\n",
       "      <td>7.084762</td>\n",
       "      <td>0.158674</td>\n",
       "      <td>0.062876</td>\n",
       "      <td>1.146553</td>\n",
       "      <td>0.444834</td>\n",
       "    </tr>\n",
       "    <tr>\n",
       "      <th>...</th>\n",
       "      <td>...</td>\n",
       "      <td>...</td>\n",
       "      <td>...</td>\n",
       "      <td>...</td>\n",
       "      <td>...</td>\n",
       "      <td>...</td>\n",
       "    </tr>\n",
       "    <tr>\n",
       "      <th>530</th>\n",
       "      <td>174</td>\n",
       "      <td>2.364951</td>\n",
       "      <td>0.091940</td>\n",
       "      <td>0.004971</td>\n",
       "      <td>0.221136</td>\n",
       "      <td>0.561979</td>\n",
       "    </tr>\n",
       "    <tr>\n",
       "      <th>664</th>\n",
       "      <td>13</td>\n",
       "      <td>2.414421</td>\n",
       "      <td>0.062047</td>\n",
       "      <td>0.004714</td>\n",
       "      <td>0.225684</td>\n",
       "      <td>0.557965</td>\n",
       "    </tr>\n",
       "    <tr>\n",
       "      <th>304</th>\n",
       "      <td>160</td>\n",
       "      <td>7.027584</td>\n",
       "      <td>0.069839</td>\n",
       "      <td>0.004604</td>\n",
       "      <td>1.128553</td>\n",
       "      <td>0.425582</td>\n",
       "    </tr>\n",
       "    <tr>\n",
       "      <th>498</th>\n",
       "      <td>1780</td>\n",
       "      <td>0.474850</td>\n",
       "      <td>0.145010</td>\n",
       "      <td>0.004238</td>\n",
       "      <td>0.047604</td>\n",
       "      <td>0.236581</td>\n",
       "    </tr>\n",
       "    <tr>\n",
       "      <th>775</th>\n",
       "      <td>1122</td>\n",
       "      <td>2.442606</td>\n",
       "      <td>0.059582</td>\n",
       "      <td>0.001889</td>\n",
       "      <td>0.228356</td>\n",
       "      <td>0.556721</td>\n",
       "    </tr>\n",
       "  </tbody>\n",
       "</table>\n",
       "<p>884 rows × 6 columns</p>\n",
       "</div>"
      ],
      "text/plain": [
       "      key  $\\Delta$dipole      RMSD  $\\Delta$R0  $\\Delta$R1  $\\Delta$R2\n",
       "669  1252        6.967082  0.166594    0.070254    1.135334    0.483453\n",
       "1    1785        7.082464  0.156541    0.065472    1.122026    0.474059\n",
       "747  1432        6.933635  0.132065    0.063610    1.118006    0.447314\n",
       "248  1492        6.956245  0.118932    0.063323    1.123029    0.429369\n",
       "737  1688        7.084762  0.158674    0.062876    1.146553    0.444834\n",
       "..    ...             ...       ...         ...         ...         ...\n",
       "530   174        2.364951  0.091940    0.004971    0.221136    0.561979\n",
       "664    13        2.414421  0.062047    0.004714    0.225684    0.557965\n",
       "304   160        7.027584  0.069839    0.004604    1.128553    0.425582\n",
       "498  1780        0.474850  0.145010    0.004238    0.047604    0.236581\n",
       "775  1122        2.442606  0.059582    0.001889    0.228356    0.556721\n",
       "\n",
       "[884 rows x 6 columns]"
      ]
     },
     "execution_count": 21,
     "metadata": {},
     "output_type": "execute_result"
    }
   ],
   "source": []
  },
  {
   "cell_type": "code",
   "execution_count": null,
   "metadata": {},
   "outputs": [],
   "source": []
  },
  {
   "cell_type": "code",
   "execution_count": null,
   "metadata": {},
   "outputs": [],
   "source": []
  }
 ],
 "metadata": {
  "kernelspec": {
   "display_name": "Python 3",
   "language": "python",
   "name": "python3"
  },
  "language_info": {
   "codemirror_mode": {
    "name": "ipython",
    "version": 3
   },
   "file_extension": ".py",
   "mimetype": "text/x-python",
   "name": "python",
   "nbconvert_exporter": "python",
   "pygments_lexer": "ipython3",
   "version": "3.8.5"
  }
 },
 "nbformat": 4,
 "nbformat_minor": 4
}
